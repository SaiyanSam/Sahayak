{
 "cells": [
  {
   "cell_type": "code",
   "execution_count": 1,
   "id": "c832ce2f-580f-485d-9281-a6350c5339d8",
   "metadata": {},
   "outputs": [
    {
     "name": "stdout",
     "output_type": "stream",
     "text": [
      "Requirement already satisfied: sqlalchemy in c:\\users\\liger\\anaconda3\\lib\\site-packages (2.0.30)\n",
      "Requirement already satisfied: pandas in c:\\users\\liger\\anaconda3\\lib\\site-packages (2.2.2)\n",
      "Requirement already satisfied: matplotlib in c:\\users\\liger\\anaconda3\\lib\\site-packages (3.8.4)\n",
      "Requirement already satisfied: seaborn in c:\\users\\liger\\anaconda3\\lib\\site-packages (0.13.2)\n",
      "Requirement already satisfied: typing-extensions>=4.6.0 in c:\\users\\liger\\anaconda3\\lib\\site-packages (from sqlalchemy) (4.11.0)\n",
      "Requirement already satisfied: greenlet!=0.4.17 in c:\\users\\liger\\anaconda3\\lib\\site-packages (from sqlalchemy) (3.0.1)\n",
      "Requirement already satisfied: numpy>=1.26.0 in c:\\users\\liger\\anaconda3\\lib\\site-packages (from pandas) (1.26.4)\n",
      "Requirement already satisfied: python-dateutil>=2.8.2 in c:\\users\\liger\\anaconda3\\lib\\site-packages (from pandas) (2.9.0.post0)\n",
      "Requirement already satisfied: pytz>=2020.1 in c:\\users\\liger\\anaconda3\\lib\\site-packages (from pandas) (2024.1)\n",
      "Requirement already satisfied: tzdata>=2022.7 in c:\\users\\liger\\anaconda3\\lib\\site-packages (from pandas) (2023.3)\n",
      "Requirement already satisfied: contourpy>=1.0.1 in c:\\users\\liger\\anaconda3\\lib\\site-packages (from matplotlib) (1.2.0)\n",
      "Requirement already satisfied: cycler>=0.10 in c:\\users\\liger\\anaconda3\\lib\\site-packages (from matplotlib) (0.11.0)\n",
      "Requirement already satisfied: fonttools>=4.22.0 in c:\\users\\liger\\anaconda3\\lib\\site-packages (from matplotlib) (4.51.0)\n",
      "Requirement already satisfied: kiwisolver>=1.3.1 in c:\\users\\liger\\anaconda3\\lib\\site-packages (from matplotlib) (1.4.4)\n",
      "Requirement already satisfied: packaging>=20.0 in c:\\users\\liger\\anaconda3\\lib\\site-packages (from matplotlib) (23.2)\n",
      "Requirement already satisfied: pillow>=8 in c:\\users\\liger\\anaconda3\\lib\\site-packages (from matplotlib) (10.3.0)\n",
      "Requirement already satisfied: pyparsing>=2.3.1 in c:\\users\\liger\\anaconda3\\lib\\site-packages (from matplotlib) (3.0.9)\n",
      "Requirement already satisfied: six>=1.5 in c:\\users\\liger\\anaconda3\\lib\\site-packages (from python-dateutil>=2.8.2->pandas) (1.16.0)\n",
      "Note: you may need to restart the kernel to use updated packages.\n"
     ]
    }
   ],
   "source": [
    "!pip install sqlalchemy pandas matplotlib seaborn"
   ]
  },
  {
   "cell_type": "code",
   "execution_count": 1,
   "id": "481f4d0d-f26a-4466-ba80-83800ffbcbfd",
   "metadata": {},
   "outputs": [],
   "source": [
    "from sqlalchemy import create_engine\n",
    "import pandas as pd\n",
    "from tabulate import tabulate\n",
    "\n",
    "database_path = \"sahayak.db\"\n",
    "\n",
    "engine = create_engine(f\"sqlite:///{database_path}\")"
   ]
  },
  {
   "cell_type": "markdown",
   "id": "d4082b97-53d9-428d-bd0b-b33d361033ac",
   "metadata": {},
   "source": [
    "### View All the Tables"
   ]
  },
  {
   "cell_type": "code",
   "execution_count": 2,
   "id": "efda11a7-c300-4917-9de1-5aa95407e47a",
   "metadata": {},
   "outputs": [
    {
     "name": "stdout",
     "output_type": "stream",
     "text": [
      "         name\n",
      "0        user\n",
      "1  fundraiser\n",
      "2    donation\n"
     ]
    }
   ],
   "source": [
    "query = \"SELECT name FROM sqlite_master WHERE type='table';\"\n",
    "tables = pd.read_sql(query, engine)\n",
    "print(tables)"
   ]
  },
  {
   "cell_type": "markdown",
   "id": "649cf4eb-064a-40b5-bd7f-ff2f694036af",
   "metadata": {},
   "source": [
    "### Number of Fundraisers"
   ]
  },
  {
   "cell_type": "code",
   "execution_count": 65,
   "id": "e270781c-8d35-4367-b90a-65768fd2a357",
   "metadata": {},
   "outputs": [
    {
     "name": "stdout",
     "output_type": "stream",
     "text": [
      "   total_fundraisers\n",
      "0                  9\n"
     ]
    }
   ],
   "source": [
    "query = \"SELECT COUNT(*) as total_fundraisers FROM fundraiser;\"\n",
    "fundraisers = pd.read_sql(query, engine)\n",
    "print(fundraisers)"
   ]
  },
  {
   "cell_type": "markdown",
   "id": "676b0e44-342e-411c-8bca-a91244a3e26c",
   "metadata": {},
   "source": [
    "### Deleted Fundraisers"
   ]
  },
  {
   "cell_type": "code",
   "execution_count": null,
   "id": "21ef37f8-0ae9-4555-b8b4-75c2f4a02205",
   "metadata": {},
   "outputs": [],
   "source": []
  },
  {
   "cell_type": "markdown",
   "id": "2e5cf055-4af3-44e1-9503-76fb00a8add9",
   "metadata": {},
   "source": [
    "### Total Donations Made"
   ]
  },
  {
   "cell_type": "code",
   "execution_count": 67,
   "id": "b7c31973-bde6-47e4-8bf0-4c287b2d8c3b",
   "metadata": {},
   "outputs": [
    {
     "name": "stdout",
     "output_type": "stream",
     "text": [
      "   total_donations\n",
      "0         249556.0\n"
     ]
    }
   ],
   "source": [
    "query = \"SELECT SUM(amount) as total_donations FROM donation;\"\n",
    "total_donations = pd.read_sql(query, engine)\n",
    "print(total_donations)"
   ]
  },
  {
   "cell_type": "markdown",
   "id": "308bb84a-6870-4438-b23a-0cba5ab13d52",
   "metadata": {},
   "source": [
    "### Top Donors"
   ]
  },
  {
   "cell_type": "code",
   "execution_count": 69,
   "id": "ccd67cb4-c0bd-4272-8a9b-2d0148a2b8d0",
   "metadata": {},
   "outputs": [
    {
     "name": "stdout",
     "output_type": "stream",
     "text": [
      "   user_id  total_donated\n",
      "0        2       236222.0\n",
      "1        1        13334.0\n"
     ]
    }
   ],
   "source": [
    "query = \"\"\"\n",
    "SELECT user_id, SUM(amount) as total_donated \n",
    "FROM donation \n",
    "GROUP BY user_id \n",
    "ORDER BY total_donated DESC \n",
    "LIMIT 5;\n",
    "\"\"\"\n",
    "top_donors = pd.read_sql(query, engine)\n",
    "print(top_donors)"
   ]
  },
  {
   "cell_type": "markdown",
   "id": "3cc89cb0-5be1-46fd-94ab-9633f95a1735",
   "metadata": {},
   "source": [
    "### Fundraisers by Category"
   ]
  },
  {
   "cell_type": "code",
   "execution_count": 71,
   "id": "1ca7ad40-97f6-475e-81bc-e55f80f8c517",
   "metadata": {},
   "outputs": [
    {
     "name": "stdout",
     "output_type": "stream",
     "text": [
      "+----------------+---------------------+\n",
      "| Category       |   Total Fundraisers |\n",
      "+================+=====================+\n",
      "| Animal Welfare |                   2 |\n",
      "+----------------+---------------------+\n",
      "| Education      |                   4 |\n",
      "+----------------+---------------------+\n",
      "| Health         |                   3 |\n",
      "+----------------+---------------------+\n"
     ]
    }
   ],
   "source": [
    "query = \"SELECT category, COUNT(*) as total FROM fundraiser GROUP BY category;\"\n",
    "categories = pd.read_sql(query, engine)\n",
    "\n",
    "# Display the result in a user-friendly tabular format\n",
    "categories.columns = [\"Category\", \"Total Fundraisers\"]  # Renaming columns for better readability\n",
    "categories.set_index(\"Category\", inplace=True)          # Setting 'Category' as the index for cleaner display\n",
    "\n",
    "# Optional: Convert to Markdown format for better display in a notebook\n",
    "print(tabulate(categories, headers='keys', tablefmt='grid'))"
   ]
  },
  {
   "cell_type": "markdown",
   "id": "34449516-1817-426f-b53c-d010cdecf3c5",
   "metadata": {},
   "source": [
    "### Fundraisers view"
   ]
  },
  {
   "cell_type": "code",
   "execution_count": 73,
   "id": "cbdfa59a-9926-4415-89ff-f72b98559887",
   "metadata": {},
   "outputs": [
    {
     "name": "stdout",
     "output_type": "stream",
     "text": [
      "+----+-----------------+--------------------+-----------------+---------------+----------+\n",
      "|    |   Fundraiser ID | Fundraiser Title   |   Total Donated |   Goal Amount | Status   |\n",
      "+====+=================+====================+=================+===============+==========+\n",
      "|  0 |               1 | PC                 |               0 |        200000 | deleted  |\n",
      "+----+-----------------+--------------------+-----------------+---------------+----------+\n",
      "|  1 |               2 | PC                 |            5000 |         10000 | deleted  |\n",
      "+----+-----------------+--------------------+-----------------+---------------+----------+\n",
      "|  2 |               3 | Fee                |           40000 |         40000 | finished |\n",
      "+----+-----------------+--------------------+-----------------+---------------+----------+\n",
      "|  3 |               4 | PC                 |          150000 |        150000 | finished |\n",
      "+----+-----------------+--------------------+-----------------+---------------+----------+\n",
      "|  4 |               5 | Fee                |           10000 |         10000 | finished |\n",
      "+----+-----------------+--------------------+-----------------+---------------+----------+\n",
      "|  5 |               6 | Lab                |           30000 |         30000 | finished |\n",
      "+----+-----------------+--------------------+-----------------+---------------+----------+\n",
      "|  6 |               7 | books              |            1000 |          1000 | active   |\n",
      "+----+-----------------+--------------------+-----------------+---------------+----------+\n",
      "|  7 |               8 | hi                 |            1222 |          1222 | active   |\n",
      "+----+-----------------+--------------------+-----------------+---------------+----------+\n",
      "|  8 |               9 | wd                 |           12334 |        123323 | active   |\n",
      "+----+-----------------+--------------------+-----------------+---------------+----------+\n"
     ]
    }
   ],
   "source": [
    "query = \"\"\"\n",
    "SELECT \n",
    "    id AS Fundraiser_ID,\n",
    "    title AS Fundraiser_Title,\n",
    "    total_donated AS Total_Donated,\n",
    "    goal AS Goal_Amount,\n",
    "    flag AS Status\n",
    "FROM \n",
    "    fundraiser\n",
    "\"\"\"\n",
    "\n",
    "# Execute the query\n",
    "finished_fundraisers = pd.read_sql(query, engine)\n",
    "\n",
    "# Rename columns for better readability\n",
    "finished_fundraisers.columns = [\"Fundraiser ID\", \"Fundraiser Title\", \"Total Donated\", \"Goal Amount\", \"Status\"]\n",
    "\n",
    "# Print the result in tabular format\n",
    "print(tabulate(finished_fundraisers, headers='keys', tablefmt='grid'))\n",
    "\n",
    "# Optional: Export to CSV if needed\n",
    "finished_fundraisers.to_csv(\"finished_fundraisers.csv\", index=False)"
   ]
  },
  {
   "cell_type": "markdown",
   "id": "ecb8e027-01fe-4665-ab5d-e555fc9f2537",
   "metadata": {},
   "source": [
    "### To update the flag for fundraisers where goal has reached"
   ]
  },
  {
   "cell_type": "code",
   "execution_count": 75,
   "id": "eed89c39-5567-4092-b8aa-dcd101cf61d1",
   "metadata": {},
   "outputs": [
    {
     "name": "stdout",
     "output_type": "stream",
     "text": [
      "Flags updated successfully for fundraisers with total_donated >= goal.\n"
     ]
    }
   ],
   "source": [
    "from sqlalchemy import text\n",
    "\n",
    "# Define the query to update the flag for finished fundraisers\n",
    "update_query = text(\"\"\"\n",
    "    UPDATE fundraiser\n",
    "    SET flag = 'finished'\n",
    "    WHERE total_donated >= goal\n",
    "    and flag == 'active';\n",
    "\"\"\")\n",
    "\n",
    "# Execute the query\n",
    "with engine.connect() as conn:\n",
    "    conn.execute(update_query)\n",
    "    conn.commit()  # Explicitly commit changes\n",
    "\n",
    "# Commit the changes to save them in the database\n",
    "engine.dispose()\n",
    "\n",
    "print(\"Flags updated successfully for fundraisers with total_donated >= goal.\")"
   ]
  },
  {
   "cell_type": "markdown",
   "id": "3948ba1c-ff32-4736-9cf0-3dd622950172",
   "metadata": {},
   "source": [
    "## *Visualizations*"
   ]
  },
  {
   "cell_type": "code",
   "execution_count": 77,
   "id": "94e6b24b-100b-4eeb-8f7d-311c9fbbfc55",
   "metadata": {},
   "outputs": [],
   "source": [
    "import matplotlib.pyplot as plt\n",
    "import seaborn as sns"
   ]
  },
  {
   "cell_type": "markdown",
   "id": "f18d7cbb-3cf7-44d6-9fe1-b7640d6d9bb1",
   "metadata": {},
   "source": [
    "### Donations by Fundraiser"
   ]
  },
  {
   "cell_type": "code",
   "execution_count": 79,
   "id": "4aca2511-fcc1-4ac1-ab1a-02f8fcd222eb",
   "metadata": {},
   "outputs": [
    {
     "name": "stderr",
     "output_type": "stream",
     "text": [
      "C:\\Users\\liger\\AppData\\Local\\Temp\\ipykernel_12660\\3059331471.py:5: FutureWarning: \n",
      "\n",
      "Passing `palette` without assigning `hue` is deprecated and will be removed in v0.14.0. Assign the `y` variable to `hue` and set `legend=False` for the same effect.\n",
      "\n",
      "  sns.barplot(x='total_donated', y='title', data=data, palette=\"viridis\")\n"
     ]
    },
    {
     "data": {
      "image/png": "[encoded data removed]",
      "text/plain": [
       "<Figure size 1000x600 with 1 Axes>"
      ]
     },
     "metadata": {},
     "output_type": "display_data"
    }
   ],
   "source": [
    "query = \"SELECT title, total_donated FROM fundraiser;\"\n",
    "data = pd.read_sql(query, engine)\n",
    "\n",
    "plt.figure(figsize=(10, 6))\n",
    "sns.barplot(x='total_donated', y='title', data=data, palette=\"viridis\")\n",
    "plt.title(\"Total Donations by Fundraiser\")\n",
    "plt.xlabel(\"Total Donations\")\n",
    "plt.ylabel(\"Fundraiser\")\n",
    "plt.show()"
   ]
  },
  {
   "cell_type": "markdown",
   "id": "94cbf5a5-2839-46eb-85c6-2f1da7dce037",
   "metadata": {},
   "source": [
    "### Fundraisers by Categories"
   ]
  },
  {
   "cell_type": "code",
   "execution_count": 81,
   "id": "caf350f8-64cb-441f-949d-8c2dcda461df",
   "metadata": {},
   "outputs": [
    {
     "name": "stderr",
     "output_type": "stream",
     "text": [
      "C:\\Users\\liger\\AppData\\Local\\Temp\\ipykernel_12660\\1133744996.py:5: FutureWarning: \n",
      "\n",
      "Passing `palette` without assigning `hue` is deprecated and will be removed in v0.14.0. Assign the `y` variable to `hue` and set `legend=False` for the same effect.\n",
      "\n",
      "  sns.barplot(x='total', y='category', data=data, palette=\"magma\")\n"
     ]
    },
    {
     "data": {
      "image/png": "[encoded data removed]",
      "text/plain": [
       "<Figure size 800x600 with 1 Axes>"
      ]
     },
     "metadata": {},
     "output_type": "display_data"
    }
   ],
   "source": [
    "query = \"SELECT category, COUNT(*) as total FROM fundraiser GROUP BY category;\"\n",
    "data = pd.read_sql(query, engine)\n",
    "\n",
    "plt.figure(figsize=(8, 6))\n",
    "sns.barplot(x='total', y='category', data=data, palette=\"magma\")\n",
    "plt.title(\"Number of Fundraisers by Category\")\n",
    "plt.xlabel(\"Total Fundraisers\")\n",
    "plt.ylabel(\"Category\")\n",
    "plt.show()"
   ]
  },
  {
   "cell_type": "markdown",
   "id": "335d7109-dacb-4614-b6e0-75080d1768c0",
   "metadata": {},
   "source": [
    "### Top Donors"
   ]
  },
  {
   "cell_type": "code",
   "execution_count": 83,
   "id": "ee067ef2-b042-493c-bf00-cde49ebf8cc5",
   "metadata": {},
   "outputs": [
    {
     "name": "stderr",
     "output_type": "stream",
     "text": [
      "C:\\Users\\liger\\AppData\\Local\\Temp\\ipykernel_12660\\1702743823.py:11: FutureWarning: \n",
      "\n",
      "Passing `palette` without assigning `hue` is deprecated and will be removed in v0.14.0. Assign the `x` variable to `hue` and set `legend=False` for the same effect.\n",
      "\n",
      "  sns.barplot(x='total_donated', y='user_id', data=data, palette=\"coolwarm\")\n"
     ]
    },
    {
     "data": {
      "image/png": "[encoded data removed]",
      "text/plain": [
       "<Figure size 800x600 with 1 Axes>"
      ]
     },
     "metadata": {},
     "output_type": "display_data"
    }
   ],
   "source": [
    "query = \"\"\"\n",
    "SELECT user_id, SUM(amount) as total_donated \n",
    "FROM donation \n",
    "GROUP BY user_id \n",
    "ORDER BY total_donated DESC \n",
    "LIMIT 5;\n",
    "\"\"\"\n",
    "data = pd.read_sql(query, engine)\n",
    "\n",
    "plt.figure(figsize=(8, 6))\n",
    "sns.barplot(x='total_donated', y='user_id', data=data, palette=\"coolwarm\")\n",
    "plt.title(\"Top Donors\")\n",
    "plt.xlabel(\"Total Donated\")\n",
    "plt.ylabel(\"User ID\")\n",
    "plt.show()"
   ]
  },
  {
   "cell_type": "code",
   "execution_count": null,
   "id": "d3b935d8-6055-4080-b7f6-b7bed0acd116",
   "metadata": {},
   "outputs": [],
   "source": []
  },
  {
   "cell_type": "code",
   "execution_count": null,
   "id": "e4a8a960-97a3-44f6-ba77-1acdd0321a35",
   "metadata": {},
   "outputs": [],
   "source": []
  },
  {
   "cell_type": "code",
   "execution_count": null,
   "id": "552fc5d0-ed4f-4561-a461-e8771fed3652",
   "metadata": {},
   "outputs": [],
   "source": []
  },
  {
   "cell_type": "code",
   "execution_count": 21,
   "id": "7f0f4248-6a75-4c28-b02d-166da62107b2",
   "metadata": {},
   "outputs": [
    {
     "name": "stdout",
     "output_type": "stream",
     "text": [
      "Name: id, Type: INTEGER, Nullable: False\n",
      "Name: user_id, Type: INTEGER, Nullable: False\n",
      "Name: amount, Type: FLOAT, Nullable: False\n",
      "Name: fundraiser_id, Type: INTEGER, Nullable: False\n",
      "Name: timestamp, Type: DATETIME, Nullable: True\n"
     ]
    }
   ],
   "source": [
    "from sqlalchemy import inspect\n",
    "\n",
    "# Inspect the donation table\n",
    "inspector = inspect(engine)\n",
    "columns = inspector.get_columns('donation')\n",
    "\n",
    "# Display column details\n",
    "for column in columns:\n",
    "    print(f\"Name: {column['name']}, Type: {column['type']}, Nullable: {column['nullable']}\")"
   ]
  },
  {
   "cell_type": "code",
   "execution_count": null,
   "id": "08d41b5b-848e-4189-9813-3d8b2e4b7926",
   "metadata": {},
   "outputs": [],
   "source": []
  }
 ],
 "metadata": {
  "kernelspec": {
   "display_name": "Python 3 (ipykernel)",
   "language": "python",
   "name": "python3"
  },
  "language_info": {
   "codemirror_mode": {
    "name": "ipython",
    "version": 3
   },
   "file_extension": ".py",
   "mimetype": "text/x-python",
   "name": "python",
   "nbconvert_exporter": "python",
   "pygments_lexer": "ipython3",
   "version": "3.12.4"
  }
 },
 "nbformat": 4,
 "nbformat_minor": 5
}
