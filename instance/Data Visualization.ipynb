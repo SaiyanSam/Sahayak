{
 "cells": [
  {
   "cell_type": "code",
   "execution_count": 1,
   "id": "c832ce2f-580f-485d-9281-a6350c5339d8",
   "metadata": {},
   "outputs": [
    {
     "name": "stdout",
     "output_type": "stream",
     "text": [
      "Requirement already satisfied: sqlalchemy in c:\\users\\liger\\anaconda3\\lib\\site-packages (2.0.30)\n",
      "Requirement already satisfied: pandas in c:\\users\\liger\\anaconda3\\lib\\site-packages (2.2.2)\n",
      "Requirement already satisfied: matplotlib in c:\\users\\liger\\anaconda3\\lib\\site-packages (3.8.4)\n",
      "Requirement already satisfied: seaborn in c:\\users\\liger\\anaconda3\\lib\\site-packages (0.13.2)\n",
      "Requirement already satisfied: typing-extensions>=4.6.0 in c:\\users\\liger\\anaconda3\\lib\\site-packages (from sqlalchemy) (4.11.0)\n",
      "Requirement already satisfied: greenlet!=0.4.17 in c:\\users\\liger\\anaconda3\\lib\\site-packages (from sqlalchemy) (3.0.1)\n",
      "Requirement already satisfied: numpy>=1.26.0 in c:\\users\\liger\\anaconda3\\lib\\site-packages (from pandas) (1.26.4)\n",
      "Requirement already satisfied: python-dateutil>=2.8.2 in c:\\users\\liger\\anaconda3\\lib\\site-packages (from pandas) (2.9.0.post0)\n",
      "Requirement already satisfied: pytz>=2020.1 in c:\\users\\liger\\anaconda3\\lib\\site-packages (from pandas) (2024.1)\n",
      "Requirement already satisfied: tzdata>=2022.7 in c:\\users\\liger\\anaconda3\\lib\\site-packages (from pandas) (2023.3)\n",
      "Requirement already satisfied: contourpy>=1.0.1 in c:\\users\\liger\\anaconda3\\lib\\site-packages (from matplotlib) (1.2.0)\n",
      "Requirement already satisfied: cycler>=0.10 in c:\\users\\liger\\anaconda3\\lib\\site-packages (from matplotlib) (0.11.0)\n",
      "Requirement already satisfied: fonttools>=4.22.0 in c:\\users\\liger\\anaconda3\\lib\\site-packages (from matplotlib) (4.51.0)\n",
      "Requirement already satisfied: kiwisolver>=1.3.1 in c:\\users\\liger\\anaconda3\\lib\\site-packages (from matplotlib) (1.4.4)\n",
      "Requirement already satisfied: packaging>=20.0 in c:\\users\\liger\\anaconda3\\lib\\site-packages (from matplotlib) (23.2)\n",
      "Requirement already satisfied: pillow>=8 in c:\\users\\liger\\anaconda3\\lib\\site-packages (from matplotlib) (10.3.0)\n",
      "Requirement already satisfied: pyparsing>=2.3.1 in c:\\users\\liger\\anaconda3\\lib\\site-packages (from matplotlib) (3.0.9)\n",
      "Requirement already satisfied: six>=1.5 in c:\\users\\liger\\anaconda3\\lib\\site-packages (from python-dateutil>=2.8.2->pandas) (1.16.0)\n",
      "Note: you may need to restart the kernel to use updated packages.\n"
     ]
    }
   ],
   "source": [
    "!pip install sqlalchemy pandas matplotlib seaborn"
   ]
  },
  {
   "cell_type": "code",
   "execution_count": 1,
   "id": "481f4d0d-f26a-4466-ba80-83800ffbcbfd",
   "metadata": {},
   "outputs": [],
   "source": [
    "from sqlalchemy import create_engine\n",
    "import pandas as pd\n",
    "\n",
    "database_path = \"sahayak.db\"\n",
    "\n",
    "engine = create_engine(f\"sqlite:///{database_path}\")"
   ]
  },
  {
   "cell_type": "markdown",
   "id": "d4082b97-53d9-428d-bd0b-b33d361033ac",
   "metadata": {},
   "source": [
    "### View All the Tables"
   ]
  },
  {
   "cell_type": "code",
   "execution_count": 3,
   "id": "efda11a7-c300-4917-9de1-5aa95407e47a",
   "metadata": {},
   "outputs": [
    {
     "name": "stdout",
     "output_type": "stream",
     "text": [
      "         name\n",
      "0        user\n",
      "1  fundraiser\n",
      "2    donation\n"
     ]
    }
   ],
   "source": [
    "query = \"SELECT name FROM sqlite_master WHERE type='table';\"\n",
    "tables = pd.read_sql(query, engine)\n",
    "print(tables)"
   ]
  },
  {
   "cell_type": "markdown",
   "id": "649cf4eb-064a-40b5-bd7f-ff2f694036af",
   "metadata": {},
   "source": [
    "### Number of Fundraisers"
   ]
  },
  {
   "cell_type": "code",
   "execution_count": 5,
   "id": "e270781c-8d35-4367-b90a-65768fd2a357",
   "metadata": {},
   "outputs": [
    {
     "name": "stdout",
     "output_type": "stream",
     "text": [
      "   total_fundraisers\n",
      "0                  3\n"
     ]
    }
   ],
   "source": [
    "query = \"SELECT COUNT(*) as total_fundraisers FROM fundraiser;\"\n",
    "fundraisers = pd.read_sql(query, engine)\n",
    "print(fundraisers)"
   ]
  },
  {
   "cell_type": "markdown",
   "id": "2e5cf055-4af3-44e1-9503-76fb00a8add9",
   "metadata": {},
   "source": [
    "### Total Donations Made"
   ]
  },
  {
   "cell_type": "code",
   "execution_count": 7,
   "id": "b7c31973-bde6-47e4-8bf0-4c287b2d8c3b",
   "metadata": {},
   "outputs": [
    {
     "name": "stdout",
     "output_type": "stream",
     "text": [
      "  total_donations\n",
      "0            None\n"
     ]
    }
   ],
   "source": [
    "query = \"SELECT SUM(amount) as total_donations FROM donation;\"\n",
    "total_donations = pd.read_sql(query, engine)\n",
    "print(total_donations)"
   ]
  },
  {
   "cell_type": "markdown",
   "id": "308bb84a-6870-4438-b23a-0cba5ab13d52",
   "metadata": {},
   "source": [
    "### Top Donors"
   ]
  },
  {
   "cell_type": "code",
   "execution_count": 9,
   "id": "ccd67cb4-c0bd-4272-8a9b-2d0148a2b8d0",
   "metadata": {},
   "outputs": [
    {
     "name": "stdout",
     "output_type": "stream",
     "text": [
      "Empty DataFrame\n",
      "Columns: [user_id, total_donated]\n",
      "Index: []\n"
     ]
    }
   ],
   "source": [
    "query = \"\"\"\n",
    "SELECT user_id, SUM(amount) as total_donated \n",
    "FROM donation \n",
    "GROUP BY user_id \n",
    "ORDER BY total_donated DESC \n",
    "LIMIT 5;\n",
    "\"\"\"\n",
    "top_donors = pd.read_sql(query, engine)\n",
    "print(top_donors)"
   ]
  },
  {
   "cell_type": "markdown",
   "id": "3cc89cb0-5be1-46fd-94ab-9633f95a1735",
   "metadata": {},
   "source": [
    "### Fundraisers by Category"
   ]
  },
  {
   "cell_type": "code",
   "execution_count": 24,
   "id": "1ca7ad40-97f6-475e-81bc-e55f80f8c517",
   "metadata": {},
   "outputs": [
    {
     "name": "stdout",
     "output_type": "stream",
     "text": [
      "         category  total\n",
      "0  Animal Welfare      1\n",
      "1       Education      2\n"
     ]
    }
   ],
   "source": [
    "query = \"SELECT category, COUNT(*) as total FROM fundraiser GROUP BY category;\"\n",
    "categories = pd.read_sql(query, engine)\n",
    "print(categories)"
   ]
  },
  {
   "cell_type": "markdown",
   "id": "3948ba1c-ff32-4736-9cf0-3dd622950172",
   "metadata": {},
   "source": [
    "## *Visualizations*"
   ]
  },
  {
   "cell_type": "code",
   "execution_count": 39,
   "id": "94e6b24b-100b-4eeb-8f7d-311c9fbbfc55",
   "metadata": {},
   "outputs": [],
   "source": [
    "import matplotlib.pyplot as plt\n",
    "import seaborn as sns"
   ]
  },
  {
   "cell_type": "markdown",
   "id": "f18d7cbb-3cf7-44d6-9fe1-b7640d6d9bb1",
   "metadata": {},
   "source": [
    "### Donations by Fundraiser"
   ]
  },
  {
   "cell_type": "code",
   "execution_count": 37,
   "id": "4aca2511-fcc1-4ac1-ab1a-02f8fcd222eb",
   "metadata": {},
   "outputs": [
    {
     "name": "stderr",
     "output_type": "stream",
     "text": [
      "C:\\Users\\liger\\AppData\\Local\\Temp\\ipykernel_23076\\3059331471.py:5: FutureWarning: \n",
      "\n",
      "Passing `palette` without assigning `hue` is deprecated and will be removed in v0.14.0. Assign the `y` variable to `hue` and set `legend=False` for the same effect.\n",
      "\n",
      "  sns.barplot(x='total_donated', y='title', data=data, palette=\"viridis\")\n"
     ]
    },
    {
     "data": {
      "image/png": "[encoded data removed]",
      "text/plain": [
       "<Figure size 1000x600 with 1 Axes>"
      ]
     },
     "metadata": {},
     "output_type": "display_data"
    }
   ],
   "source": [
    "query = \"SELECT title, total_donated FROM fundraiser;\"\n",
    "data = pd.read_sql(query, engine)\n",
    "\n",
    "plt.figure(figsize=(10, 6))\n",
    "sns.barplot(x='total_donated', y='title', data=data, palette=\"viridis\")\n",
    "plt.title(\"Total Donations by Fundraiser\")\n",
    "plt.xlabel(\"Total Donations\")\n",
    "plt.ylabel(\"Fundraiser\")\n",
    "plt.show()"
   ]
  },
  {
   "cell_type": "markdown",
   "id": "94cbf5a5-2839-46eb-85c6-2f1da7dce037",
   "metadata": {},
   "source": [
    "### Fundraisers by Categories"
   ]
  },
  {
   "cell_type": "code",
   "execution_count": 32,
   "id": "caf350f8-64cb-441f-949d-8c2dcda461df",
   "metadata": {},
   "outputs": [
    {
     "name": "stderr",
     "output_type": "stream",
     "text": [
      "C:\\Users\\liger\\AppData\\Local\\Temp\\ipykernel_23076\\1133744996.py:5: FutureWarning: \n",
      "\n",
      "Passing `palette` without assigning `hue` is deprecated and will be removed in v0.14.0. Assign the `y` variable to `hue` and set `legend=False` for the same effect.\n",
      "\n",
      "  sns.barplot(x='total', y='category', data=data, palette=\"magma\")\n"
     ]
    },
    {
     "data": {
      "image/png": "[encoded data removed]",
      "text/plain": [
       "<Figure size 800x600 with 1 Axes>"
      ]
     },
     "metadata": {},
     "output_type": "display_data"
    }
   ],
   "source": [
    "query = \"SELECT category, COUNT(*) as total FROM fundraiser GROUP BY category;\"\n",
    "data = pd.read_sql(query, engine)\n",
    "\n",
    "plt.figure(figsize=(8, 6))\n",
    "sns.barplot(x='total', y='category', data=data, palette=\"magma\")\n",
    "plt.title(\"Number of Fundraisers by Category\")\n",
    "plt.xlabel(\"Total Fundraisers\")\n",
    "plt.ylabel(\"Category\")\n",
    "plt.show()"
   ]
  },
  {
   "cell_type": "markdown",
   "id": "335d7109-dacb-4614-b6e0-75080d1768c0",
   "metadata": {},
   "source": [
    "### Top Donors"
   ]
  },
  {
   "cell_type": "code",
   "execution_count": 45,
   "id": "ee067ef2-b042-493c-bf00-cde49ebf8cc5",
   "metadata": {},
   "outputs": [
    {
     "data": {
      "image/png": "[encoded data removed]",
      "text/plain": [
       "<Figure size 800x600 with 1 Axes>"
      ]
     },
     "metadata": {},
     "output_type": "display_data"
    }
   ],
   "source": [
    "query = \"\"\"\n",
    "SELECT user_id, SUM(amount) as total_donated \n",
    "FROM donation \n",
    "GROUP BY user_id \n",
    "ORDER BY total_donated DESC \n",
    "LIMIT 5;\n",
    "\"\"\"\n",
    "data = pd.read_sql(query, engine)\n",
    "\n",
    "plt.figure(figsize=(8, 6))\n",
    "sns.barplot(x='total_donated', y='user_id', data=data, palette=\"coolwarm\")\n",
    "plt.title(\"Top Donors\")\n",
    "plt.xlabel(\"Total Donated\")\n",
    "plt.ylabel(\"User ID\")\n",
    "plt.show()"
   ]
  },
  {
   "cell_type": "code",
   "execution_count": 11,
   "id": "7f0f4248-6a75-4c28-b02d-166da62107b2",
   "metadata": {},
   "outputs": [
    {
     "name": "stdout",
     "output_type": "stream",
     "text": [
      "Name: id, Type: INTEGER, Nullable: False\n",
      "Name: user_id, Type: INTEGER, Nullable: False\n",
      "Name: amount, Type: FLOAT, Nullable: False\n",
      "Name: fundraiser_id, Type: INTEGER, Nullable: False\n",
      "Name: timestamp, Type: DATETIME, Nullable: True\n"
     ]
    }
   ],
   "source": [
    "from sqlalchemy import inspect\n",
    "\n",
    "# Inspect the donation table\n",
    "inspector = inspect(engine)\n",
    "columns = inspector.get_columns('donation')\n",
    "\n",
    "# Display column details\n",
    "for column in columns:\n",
    "    print(f\"Name: {column['name']}, Type: {column['type']}, Nullable: {column['nullable']}\")"
   ]
  },
  {
   "cell_type": "code",
   "execution_count": null,
   "id": "08d41b5b-848e-4189-9813-3d8b2e4b7926",
   "metadata": {},
   "outputs": [],
   "source": []
  }
 ],
 "metadata": {
  "kernelspec": {
   "display_name": "Python 3 (ipykernel)",
   "language": "python",
   "name": "python3"
  },
  "language_info": {
   "codemirror_mode": {
    "name": "ipython",
    "version": 3
   },
   "file_extension": ".py",
   "mimetype": "text/x-python",
   "name": "python",
   "nbconvert_exporter": "python",
   "pygments_lexer": "ipython3",
   "version": "3.12.4"
  }
 },
 "nbformat": 4,
 "nbformat_minor": 5
}
